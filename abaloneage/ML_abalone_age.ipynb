{
 "cells": [
  {
   "cell_type": "markdown",
   "id": "bc85ed69-faef-44f0-ab57-602ecf944bfa",
   "metadata": {},
   "source": [
    "#  Predicting the age of abalone from physical measurements\n",
    "## The age of abalone is determined by cutting the shell through the cone, staining it, and counting the number of rings through a microscope -- a boring and time-consuming task.\n",
    "\n",
    "From the original data examples with missing values were removed (the majority having the predicted value missing), and the ranges of the continuous values have been scaled for use with an ANN (by dividing by 200).\n",
    "\n",
    "Data comes from an original (non-machine-learning) study: Warwick J Nash, Tracy L Sellers, Simon R Talbot, Andrew J Cawthorn and Wes B Ford (1994) \"The Population Biology of Abalone (_Haliotis_species) in Tasmania. I. Blacklip Abalone (_H. rubra_) from the North Coast and Islands of Bass Strait\", Sea Fisheries Division, Technical Report No. 48 (ISSN 1034-3288)\n",
    "\n",
    "Title: UCI Abalone Database. Predict number of rings (age) of abalone from physical measurements\n",
    "Origin: natural\n",
    "\n",
    "Usage: assessment\n",
    "\n",
    "Order: uninformative"
   ]
  },
  {
   "cell_type": "code",
   "execution_count": 4,
   "id": "31e46acd-f833-464a-9864-2afa4b79d21b",
   "metadata": {},
   "outputs": [
    {
     "name": "stdout",
     "output_type": "stream",
     "text": [
      "Dataset shape: (4177, 9)\n"
     ]
    },
    {
     "data": {
      "text/html": [
       "<div>\n",
       "<style scoped>\n",
       "    .dataframe tbody tr th:only-of-type {\n",
       "        vertical-align: middle;\n",
       "    }\n",
       "\n",
       "    .dataframe tbody tr th {\n",
       "        vertical-align: top;\n",
       "    }\n",
       "\n",
       "    .dataframe thead th {\n",
       "        text-align: right;\n",
       "    }\n",
       "</style>\n",
       "<table border=\"1\" class=\"dataframe\">\n",
       "  <thead>\n",
       "    <tr style=\"text-align: right;\">\n",
       "      <th></th>\n",
       "      <th>0</th>\n",
       "      <th>1</th>\n",
       "      <th>2</th>\n",
       "      <th>3</th>\n",
       "      <th>4</th>\n",
       "      <th>5</th>\n",
       "      <th>6</th>\n",
       "      <th>7</th>\n",
       "      <th>8</th>\n",
       "    </tr>\n",
       "  </thead>\n",
       "  <tbody>\n",
       "    <tr>\n",
       "      <th>0</th>\n",
       "      <td>M</td>\n",
       "      <td>0.455</td>\n",
       "      <td>0.365</td>\n",
       "      <td>0.095</td>\n",
       "      <td>0.5140</td>\n",
       "      <td>0.2245</td>\n",
       "      <td>0.1010</td>\n",
       "      <td>0.150</td>\n",
       "      <td>15</td>\n",
       "    </tr>\n",
       "    <tr>\n",
       "      <th>1</th>\n",
       "      <td>M</td>\n",
       "      <td>0.350</td>\n",
       "      <td>0.265</td>\n",
       "      <td>0.090</td>\n",
       "      <td>0.2255</td>\n",
       "      <td>0.0995</td>\n",
       "      <td>0.0485</td>\n",
       "      <td>0.070</td>\n",
       "      <td>7</td>\n",
       "    </tr>\n",
       "    <tr>\n",
       "      <th>2</th>\n",
       "      <td>F</td>\n",
       "      <td>0.530</td>\n",
       "      <td>0.420</td>\n",
       "      <td>0.135</td>\n",
       "      <td>0.6770</td>\n",
       "      <td>0.2565</td>\n",
       "      <td>0.1415</td>\n",
       "      <td>0.210</td>\n",
       "      <td>9</td>\n",
       "    </tr>\n",
       "    <tr>\n",
       "      <th>3</th>\n",
       "      <td>M</td>\n",
       "      <td>0.440</td>\n",
       "      <td>0.365</td>\n",
       "      <td>0.125</td>\n",
       "      <td>0.5160</td>\n",
       "      <td>0.2155</td>\n",
       "      <td>0.1140</td>\n",
       "      <td>0.155</td>\n",
       "      <td>10</td>\n",
       "    </tr>\n",
       "    <tr>\n",
       "      <th>4</th>\n",
       "      <td>I</td>\n",
       "      <td>0.330</td>\n",
       "      <td>0.255</td>\n",
       "      <td>0.080</td>\n",
       "      <td>0.2050</td>\n",
       "      <td>0.0895</td>\n",
       "      <td>0.0395</td>\n",
       "      <td>0.055</td>\n",
       "      <td>7</td>\n",
       "    </tr>\n",
       "  </tbody>\n",
       "</table>\n",
       "</div>"
      ],
      "text/plain": [
       "   0      1      2      3       4       5       6      7   8\n",
       "0  M  0.455  0.365  0.095  0.5140  0.2245  0.1010  0.150  15\n",
       "1  M  0.350  0.265  0.090  0.2255  0.0995  0.0485  0.070   7\n",
       "2  F  0.530  0.420  0.135  0.6770  0.2565  0.1415  0.210   9\n",
       "3  M  0.440  0.365  0.125  0.5160  0.2155  0.1140  0.155  10\n",
       "4  I  0.330  0.255  0.080  0.2050  0.0895  0.0395  0.055   7"
      ]
     },
     "execution_count": 4,
     "metadata": {},
     "output_type": "execute_result"
    }
   ],
   "source": [
    "import pandas as pd \n",
    "\n",
    "# Using read_csv to read in .data data\n",
    "data = pd.read_csv(\"/Users/mickey.rice/Downloads/abalone/Dataset.data\", delimiter=' ', header=None)\n",
    "\n",
    "print(\"Dataset shape:\", data.shape)\n",
    "data.head()"
   ]
  },
  {
   "cell_type": "code",
   "execution_count": 5,
   "id": "824c8d06-a93f-42a4-b1d2-9ccff8de71e1",
   "metadata": {},
   "outputs": [
    {
     "data": {
      "text/html": [
       "<div>\n",
       "<style scoped>\n",
       "    .dataframe tbody tr th:only-of-type {\n",
       "        vertical-align: middle;\n",
       "    }\n",
       "\n",
       "    .dataframe tbody tr th {\n",
       "        vertical-align: top;\n",
       "    }\n",
       "\n",
       "    .dataframe thead th {\n",
       "        text-align: right;\n",
       "    }\n",
       "</style>\n",
       "<table border=\"1\" class=\"dataframe\">\n",
       "  <thead>\n",
       "    <tr style=\"text-align: right;\">\n",
       "      <th></th>\n",
       "      <th>sex</th>\n",
       "      <th>length</th>\n",
       "      <th>diameter</th>\n",
       "      <th>height</th>\n",
       "      <th>whole_weight</th>\n",
       "      <th>shucked_weight</th>\n",
       "      <th>viscera_weight</th>\n",
       "      <th>shell_weight</th>\n",
       "      <th>rings</th>\n",
       "    </tr>\n",
       "  </thead>\n",
       "  <tbody>\n",
       "    <tr>\n",
       "      <th>0</th>\n",
       "      <td>M</td>\n",
       "      <td>0.455</td>\n",
       "      <td>0.365</td>\n",
       "      <td>0.095</td>\n",
       "      <td>0.5140</td>\n",
       "      <td>0.2245</td>\n",
       "      <td>0.1010</td>\n",
       "      <td>0.150</td>\n",
       "      <td>15</td>\n",
       "    </tr>\n",
       "    <tr>\n",
       "      <th>1</th>\n",
       "      <td>M</td>\n",
       "      <td>0.350</td>\n",
       "      <td>0.265</td>\n",
       "      <td>0.090</td>\n",
       "      <td>0.2255</td>\n",
       "      <td>0.0995</td>\n",
       "      <td>0.0485</td>\n",
       "      <td>0.070</td>\n",
       "      <td>7</td>\n",
       "    </tr>\n",
       "    <tr>\n",
       "      <th>2</th>\n",
       "      <td>F</td>\n",
       "      <td>0.530</td>\n",
       "      <td>0.420</td>\n",
       "      <td>0.135</td>\n",
       "      <td>0.6770</td>\n",
       "      <td>0.2565</td>\n",
       "      <td>0.1415</td>\n",
       "      <td>0.210</td>\n",
       "      <td>9</td>\n",
       "    </tr>\n",
       "    <tr>\n",
       "      <th>3</th>\n",
       "      <td>M</td>\n",
       "      <td>0.440</td>\n",
       "      <td>0.365</td>\n",
       "      <td>0.125</td>\n",
       "      <td>0.5160</td>\n",
       "      <td>0.2155</td>\n",
       "      <td>0.1140</td>\n",
       "      <td>0.155</td>\n",
       "      <td>10</td>\n",
       "    </tr>\n",
       "    <tr>\n",
       "      <th>4</th>\n",
       "      <td>I</td>\n",
       "      <td>0.330</td>\n",
       "      <td>0.255</td>\n",
       "      <td>0.080</td>\n",
       "      <td>0.2050</td>\n",
       "      <td>0.0895</td>\n",
       "      <td>0.0395</td>\n",
       "      <td>0.055</td>\n",
       "      <td>7</td>\n",
       "    </tr>\n",
       "  </tbody>\n",
       "</table>\n",
       "</div>"
      ],
      "text/plain": [
       "  sex  length  diameter  height  whole_weight  shucked_weight  viscera_weight  \\\n",
       "0   M   0.455     0.365   0.095        0.5140          0.2245          0.1010   \n",
       "1   M   0.350     0.265   0.090        0.2255          0.0995          0.0485   \n",
       "2   F   0.530     0.420   0.135        0.6770          0.2565          0.1415   \n",
       "3   M   0.440     0.365   0.125        0.5160          0.2155          0.1140   \n",
       "4   I   0.330     0.255   0.080        0.2050          0.0895          0.0395   \n",
       "\n",
       "   shell_weight  rings  \n",
       "0         0.150     15  \n",
       "1         0.070      7  \n",
       "2         0.210      9  \n",
       "3         0.155     10  \n",
       "4         0.055      7  "
      ]
     },
     "execution_count": 5,
     "metadata": {},
     "output_type": "execute_result"
    }
   ],
   "source": [
    "# Add names of the columns\n",
    "\n",
    "data.columns = ['sex', 'length', 'diameter', 'height', 'whole_weight', 'shucked_weight', 'viscera_weight', 'shell_weight', 'rings']\n",
    "data.head()"
   ]
  },
  {
   "cell_type": "code",
   "execution_count": 6,
   "id": "3fa85722-2178-4779-a00e-480167cbe1d3",
   "metadata": {},
   "outputs": [
    {
     "data": {
      "text/html": [
       "<div>\n",
       "<style scoped>\n",
       "    .dataframe tbody tr th:only-of-type {\n",
       "        vertical-align: middle;\n",
       "    }\n",
       "\n",
       "    .dataframe tbody tr th {\n",
       "        vertical-align: top;\n",
       "    }\n",
       "\n",
       "    .dataframe thead th {\n",
       "        text-align: right;\n",
       "    }\n",
       "</style>\n",
       "<table border=\"1\" class=\"dataframe\">\n",
       "  <thead>\n",
       "    <tr style=\"text-align: right;\">\n",
       "      <th></th>\n",
       "      <th>length</th>\n",
       "      <th>diameter</th>\n",
       "      <th>height</th>\n",
       "      <th>whole_weight</th>\n",
       "      <th>shucked_weight</th>\n",
       "      <th>viscera_weight</th>\n",
       "      <th>shell_weight</th>\n",
       "      <th>rings</th>\n",
       "      <th>sex_I</th>\n",
       "      <th>sex_M</th>\n",
       "    </tr>\n",
       "  </thead>\n",
       "  <tbody>\n",
       "    <tr>\n",
       "      <th>0</th>\n",
       "      <td>0.455</td>\n",
       "      <td>0.365</td>\n",
       "      <td>0.095</td>\n",
       "      <td>0.5140</td>\n",
       "      <td>0.2245</td>\n",
       "      <td>0.1010</td>\n",
       "      <td>0.150</td>\n",
       "      <td>15</td>\n",
       "      <td>False</td>\n",
       "      <td>True</td>\n",
       "    </tr>\n",
       "    <tr>\n",
       "      <th>1</th>\n",
       "      <td>0.350</td>\n",
       "      <td>0.265</td>\n",
       "      <td>0.090</td>\n",
       "      <td>0.2255</td>\n",
       "      <td>0.0995</td>\n",
       "      <td>0.0485</td>\n",
       "      <td>0.070</td>\n",
       "      <td>7</td>\n",
       "      <td>False</td>\n",
       "      <td>True</td>\n",
       "    </tr>\n",
       "    <tr>\n",
       "      <th>2</th>\n",
       "      <td>0.530</td>\n",
       "      <td>0.420</td>\n",
       "      <td>0.135</td>\n",
       "      <td>0.6770</td>\n",
       "      <td>0.2565</td>\n",
       "      <td>0.1415</td>\n",
       "      <td>0.210</td>\n",
       "      <td>9</td>\n",
       "      <td>False</td>\n",
       "      <td>False</td>\n",
       "    </tr>\n",
       "    <tr>\n",
       "      <th>3</th>\n",
       "      <td>0.440</td>\n",
       "      <td>0.365</td>\n",
       "      <td>0.125</td>\n",
       "      <td>0.5160</td>\n",
       "      <td>0.2155</td>\n",
       "      <td>0.1140</td>\n",
       "      <td>0.155</td>\n",
       "      <td>10</td>\n",
       "      <td>False</td>\n",
       "      <td>True</td>\n",
       "    </tr>\n",
       "    <tr>\n",
       "      <th>4</th>\n",
       "      <td>0.330</td>\n",
       "      <td>0.255</td>\n",
       "      <td>0.080</td>\n",
       "      <td>0.2050</td>\n",
       "      <td>0.0895</td>\n",
       "      <td>0.0395</td>\n",
       "      <td>0.055</td>\n",
       "      <td>7</td>\n",
       "      <td>True</td>\n",
       "      <td>False</td>\n",
       "    </tr>\n",
       "  </tbody>\n",
       "</table>\n",
       "</div>"
      ],
      "text/plain": [
       "   length  diameter  height  whole_weight  shucked_weight  viscera_weight  \\\n",
       "0   0.455     0.365   0.095        0.5140          0.2245          0.1010   \n",
       "1   0.350     0.265   0.090        0.2255          0.0995          0.0485   \n",
       "2   0.530     0.420   0.135        0.6770          0.2565          0.1415   \n",
       "3   0.440     0.365   0.125        0.5160          0.2155          0.1140   \n",
       "4   0.330     0.255   0.080        0.2050          0.0895          0.0395   \n",
       "\n",
       "   shell_weight  rings  sex_I  sex_M  \n",
       "0         0.150     15  False   True  \n",
       "1         0.070      7  False   True  \n",
       "2         0.210      9  False  False  \n",
       "3         0.155     10  False   True  \n",
       "4         0.055      7   True  False  "
      ]
     },
     "execution_count": 6,
     "metadata": {},
     "output_type": "execute_result"
    }
   ],
   "source": [
    "# One-hot encode the 'sex' column\n",
    "data = pd.get_dummies(data, columns=['sex'], drop_first=True)\n",
    "data.head()"
   ]
  },
  {
   "cell_type": "code",
   "execution_count": 7,
   "id": "517ef473-b236-4460-8009-38740f2f4f25",
   "metadata": {},
   "outputs": [],
   "source": [
    "# Define Features (X) and Target (y)\n",
    "\n",
    "# Features are all columns except 'rings'\n",
    "X = data.drop(columns=['rings'])\n",
    "\n",
    "# Target variable is 'rings'\n",
    "y = data['rings']"
   ]
  },
  {
   "cell_type": "code",
   "execution_count": 8,
   "id": "84d63222-b0dc-49f2-bc23-1df0bb6e748d",
   "metadata": {},
   "outputs": [],
   "source": [
    "# Train/Test Split\n",
    "\n",
    "from sklearn.model_selection import train_test_split\n",
    "\n",
    "X_train, X_test, y_train, y_test = train_test_split(X, y, test_size=0.2, random_state=42)"
   ]
  },
  {
   "cell_type": "code",
   "execution_count": 9,
   "id": "e841cd93-5317-4175-9a5d-4431209726d9",
   "metadata": {},
   "outputs": [],
   "source": [
    "# Feature Scaling\n",
    "\n",
    "from sklearn.preprocessing import StandardScaler\n",
    "\n",
    "scaler = StandardScaler()\n",
    "\n",
    "# Scale the features\n",
    "X_train_scaled = scaler.fit_transform(X_train)\n",
    "X_test_scaled = scaler.transform(X_test)"
   ]
  },
  {
   "cell_type": "code",
   "execution_count": 10,
   "id": "1fe0afdb-e5e4-427f-b8d4-cb878e3aa407",
   "metadata": {},
   "outputs": [
    {
     "name": "stdout",
     "output_type": "stream",
     "text": [
      "Mean Squared Error: 5.107539234449761\n"
     ]
    }
   ],
   "source": [
    "# Build the Regression Model\n",
    "\n",
    "from sklearn.ensemble import RandomForestRegressor\n",
    "from sklearn.metrics import mean_squared_error\n",
    "\n",
    "# Initialize the Random Forest Regressor\n",
    "regressor = RandomForestRegressor(n_estimators=100, random_state=42)\n",
    "\n",
    "# Fit the model to the training data\n",
    "regressor.fit(X_train_scaled, y_train)\n",
    "\n",
    "# Predict on the test data\n",
    "y_pred = regressor.predict(X_test_scaled)\n",
    "\n",
    "# Evaluate the model (using Mean Squared Error)\n",
    "mse = mean_squared_error(y_test, y_pred)\n",
    "print(f'Mean Squared Error: {mse}')"
   ]
  },
  {
   "cell_type": "markdown",
   "id": "413b28f4-bd51-46bb-9a2c-28e86959db50",
   "metadata": {},
   "source": [
    "Interpretation: An MSE of 5.108 means that, on average, the squared difference between the predicted number of rings and the actual number is around 5.1 rings. Taking the square root of MSE gives Root Mean Squared Error (RMSE): ≈2.26\n",
    "This means, on average, the model's predictions are off by about 2.26 rings in terms of raw units (number of rings)."
   ]
  },
  {
   "cell_type": "code",
   "execution_count": 11,
   "id": "b76c2411-eead-46f2-8dc1-7072fa65a785",
   "metadata": {},
   "outputs": [
    {
     "name": "stdout",
     "output_type": "stream",
     "text": [
      "R-squared: 0.5281810502563149\n"
     ]
    }
   ],
   "source": [
    "# Model Evaluation\n",
    "\n",
    "from sklearn.metrics import r2_score\n",
    "\n",
    "# Calculate R-squared\n",
    "r2 = r2_score(y_test, y_pred)\n",
    "print(f'R-squared: {r2}')"
   ]
  },
  {
   "cell_type": "markdown",
   "id": "3ddec0cd-711d-4ebf-834d-f30c00a480f6",
   "metadata": {},
   "source": [
    "Interpretation: 52.8% of the variance in the number of rings is explained by the model. This indicates a moderate fit - the model is capturing a reasonable portion of the relationship, but there’s still 47.2% of the variance unexplained, which suggests there’s room for improvement in the model or that some variables are missing or not well-captured."
   ]
  },
  {
   "cell_type": "code",
   "execution_count": 12,
   "id": "011249de-0dc9-4f99-9404-103b9367019e",
   "metadata": {},
   "outputs": [
    {
     "name": "stdout",
     "output_type": "stream",
     "text": [
      "[13.83 11.02 15.81 12.39 14.15 12.   10.25 10.33  8.17 11.68]\n"
     ]
    }
   ],
   "source": [
    "# Estimating Age from Rings\n",
    "\n",
    "# Age of abalone=Rings+1.5\n",
    "\n",
    "age_pred = y_pred + 1.5\n",
    "print(age_pred[:10])  # Display first 10 predicted ages\n"
   ]
  },
  {
   "cell_type": "markdown",
   "id": "e1c96e1a-5892-4404-8e68-6a2c702cd45f",
   "metadata": {},
   "source": [
    "Let's try a new model to see if it fits better!\n",
    "\n",
    "MLPRegressor for building the neural network and StandardScaler for feature scaling"
   ]
  },
  {
   "cell_type": "code",
   "execution_count": 13,
   "id": "d5be992a-b126-4710-a068-c70bd5a2573d",
   "metadata": {},
   "outputs": [],
   "source": [
    "from sklearn.neural_network import MLPRegressor"
   ]
  },
  {
   "cell_type": "code",
   "execution_count": 14,
   "id": "78e048fe-a856-47cb-b68d-994481054366",
   "metadata": {},
   "outputs": [
    {
     "data": {
      "text/plain": [
       "MLPRegressor(hidden_layer_sizes=(64, 32, 16), max_iter=1000, random_state=42)"
      ]
     },
     "execution_count": 14,
     "metadata": {},
     "output_type": "execute_result"
    }
   ],
   "source": [
    "# Initialize the MLP Regressor\n",
    "mlp = MLPRegressor(hidden_layer_sizes=(64, 32, 16), activation='relu', solver='adam', max_iter=1000, random_state=42)\n",
    "\n",
    "# Train the neural network\n",
    "mlp.fit(X_train_scaled, y_train)"
   ]
  },
  {
   "cell_type": "code",
   "execution_count": 15,
   "id": "8b42e169-35e2-45d7-b257-496a753e1fe5",
   "metadata": {},
   "outputs": [
    {
     "name": "stdout",
     "output_type": "stream",
     "text": [
      "R-squared: 0.5790726699853661\n",
      "Mean Squared Error: 4.5566267613241385\n",
      "Root Mean Squared Error: 2.13462567241288\n"
     ]
    }
   ],
   "source": [
    "# Make predictions on the test set\n",
    "y_pred = mlp.predict(X_test_scaled)\n",
    "\n",
    "# Evaluate the model\n",
    "mse = mean_squared_error(y_test, y_pred)\n",
    "r2 = r2_score(y_test, y_pred)\n",
    "\n",
    "# Display results\n",
    "print(f'R-squared: {r2}')\n",
    "print(f'Mean Squared Error: {mse}')\n",
    "\n",
    "# Convert MSE to RMSE\n",
    "rmse = mse ** 0.5\n",
    "print(f'Root Mean Squared Error: {rmse}')"
   ]
  },
  {
   "cell_type": "markdown",
   "id": "d27b0ad9-ea16-4b09-ab33-70fa8fb23756",
   "metadata": {},
   "source": [
    "Interpretation: 57.9% of the variance in the number of rings is explained by the model. This is better than the Random Forest Regressor model, but there’s still 42.1% of the variance unexplained, which suggests there’s room for improvement in the model or that some variables are missing or not well-captured.\n",
    "\n",
    "An MSE of 4.557 means that, on average, the squared difference between the predicted number of rings and the actual number is around 4.6 rings. Taking the square root of MSE gives Root Mean Squared Error (RMSE): ≈2.13\n",
    "This means, on average, the model's predictions are off by about 2.13 rings in terms of raw units (number of rings).\n",
    "\n",
    "Overall this is a better model than the Random Forestor Regression model, but still not ideal. "
   ]
  },
  {
   "cell_type": "code",
   "execution_count": 16,
   "id": "9726a381-d6fe-4fc8-8c4c-29f4d412b972",
   "metadata": {},
   "outputs": [
    {
     "name": "stdout",
     "output_type": "stream",
     "text": [
      "[12.92326569 10.67261431 16.64217162 12.44020236 13.40612487 12.18287739\n",
      " 10.47947644  9.86644265  8.22224231 11.61016916]\n"
     ]
    }
   ],
   "source": [
    "age_pred = y_pred + 1.5\n",
    "print(age_pred[:10])  # Display first 10 predicted ages"
   ]
  },
  {
   "cell_type": "markdown",
   "id": "92986cd8-99e5-4255-a9f2-e2f63dfac5ba",
   "metadata": {},
   "source": [
    "Let's fine tune the model!\n",
    "\n",
    "Random Search:\n",
    "Instead of testing all possible combinations (i.e., Grid Search), Random Search randomly samples a subset of hyperparameter combinations, allowing for faster tuning with larger parameter spaces."
   ]
  },
  {
   "cell_type": "code",
   "execution_count": 17,
   "id": "f9e76270-c431-4f9b-bd9c-ad0f7f96a6a8",
   "metadata": {},
   "outputs": [
    {
     "name": "stdout",
     "output_type": "stream",
     "text": [
      "Best parameters: {'solver': 'sgd', 'learning_rate': 'adaptive', 'hidden_layer_sizes': (100, 50, 25), 'alpha': 0.0001, 'activation': 'tanh'}\n",
      "Best R-squared score: 0.5847426049153279\n"
     ]
    }
   ],
   "source": [
    "from sklearn.model_selection import RandomizedSearchCV\n",
    "\n",
    "# define the param grid\n",
    "param_dist = {\n",
    "    'hidden_layer_sizes': [(64, 32), (128, 64, 32), (100, 50, 25)],\n",
    "    'activation': ['relu', 'tanh'],\n",
    "    'solver': ['adam', 'sgd'],\n",
    "    'alpha': [0.0001, 0.001, 0.01],\n",
    "    'learning_rate': ['constant', 'adaptive']\n",
    "}\n",
    "\n",
    "# Initialize Randomized Search\n",
    "random_search = RandomizedSearchCV(estimator=mlp, param_distributions=param_dist, n_iter=20, cv=5, random_state=42, scoring='r2')\n",
    "\n",
    "random_search.fit(X_train_scaled, y_train)\n",
    "\n",
    "# Best parameters\n",
    "print(f'Best parameters: {random_search.best_params_}')\n",
    "print(f'Best R-squared score: {random_search.best_score_}')"
   ]
  },
  {
   "cell_type": "code",
   "execution_count": 19,
   "id": "5831d613-7038-41a9-a4a8-2f6fd952ee97",
   "metadata": {},
   "outputs": [
    {
     "name": "stdout",
     "output_type": "stream",
     "text": [
      "Test MSE: 4.4278584204209475\n",
      "Test R-squared: 0.5909678979173206\n"
     ]
    }
   ],
   "source": [
    "# Evaluate on the test set\n",
    "y_test_pred = random_search.best_estimator_.predict(X_test_scaled)\n",
    "\n",
    "# Calculate the test set performance\n",
    "test_mse = mean_squared_error(y_test, y_test_pred)\n",
    "test_r2 = r2_score(y_test, y_test_pred)\n",
    "\n",
    "print(f'Test MSE: {test_mse}')\n",
    "print(f'Test R-squared: {test_r2}')"
   ]
  },
  {
   "cell_type": "code",
   "execution_count": 21,
   "id": "71139a40-6db6-423d-b40a-f92ffc70d3e6",
   "metadata": {},
   "outputs": [
    {
     "data": {
      "image/png": "[encoded data removed]",
      "text/plain": [
       "<Figure size 432x288 with 1 Axes>"
      ]
     },
     "metadata": {
      "needs_background": "light"
     },
     "output_type": "display_data"
    }
   ],
   "source": [
    "# Visualize predictions\n",
    "\n",
    "import matplotlib.pyplot as plt\n",
    "\n",
    "# Plot actual vs. predicted rings\n",
    "plt.scatter(y_test, y_test_pred)\n",
    "plt.xlabel('Actual Rings')\n",
    "plt.ylabel('Predicted Rings')\n",
    "plt.title('Actual vs. Predicted Rings')\n",
    "plt.show()"
   ]
  },
  {
   "cell_type": "markdown",
   "id": "218b7c77-dc01-4019-a8b4-88e17349767d",
   "metadata": {},
   "source": [
    "The fine tuned neural network predicts abalone age more precisely (58 - 59%) than before, but there is still unaccounted for variability, further demonstrated in the plot."
   ]
  },
  {
   "cell_type": "markdown",
   "id": "f29a9731-f62c-474a-9f17-ad92f98d3d79",
   "metadata": {},
   "source": [
    "In summary:\n",
    "\n",
    "1) Random Forest Regression: builds multiple decision trees and averages their predictions. It’s particularly good at capturing non-linear relationships and reducing overfitting\n",
    "\n",
    "2) Neural Networks (MLPRegressor): powerful for capturing complex, non-linear relationships. \n",
    "    a) After tuning (via Grid Search, evaluate performance improvements by comparing R-squared and MSE before and after\n",
    "      tuning.\n",
    "   b) Neural networks can capture more complex patterns, but they are harder to interpret than Random Forests.\n",
    "   c) Test the model on a holdout set to ensure it generalizes well.\n",
    " \n",
    "3) Select the best-performing model: Choose between Random Forest and Neural Network based on which model gives better results (higher R-squared, lower MSE)."
   ]
  }
 ],
 "metadata": {
  "kernelspec": {
   "display_name": "Python 3 (ipykernel)",
   "language": "python",
   "name": "python3"
  },
  "language_info": {
   "codemirror_mode": {
    "name": "ipython",
    "version": 3
   },
   "file_extension": ".py",
   "mimetype": "text/x-python",
   "name": "python",
   "nbconvert_exporter": "python",
   "pygments_lexer": "ipython3",
   "version": "3.9.12"
  }
 },
 "nbformat": 4,
 "nbformat_minor": 5
}
